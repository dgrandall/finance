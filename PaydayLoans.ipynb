{
 "cells": [
  {
   "cell_type": "code",
   "execution_count": 17,
   "id": "715183b9",
   "metadata": {},
   "outputs": [
    {
     "name": "stdout",
     "output_type": "stream",
     "text": [
      "625.0\n"
     ]
    }
   ],
   "source": [
    "principal = 500 \n",
    "\n",
    "weeks = 2 \n",
    "weeksInYear = 52 \n",
    "WeeklyInterestRate =.125 # .1 means 10% \n",
    "amountOwed = principal * (1+WeeklyInterestRate*weeks) # adding a 1 to the interest rate shows that it is increasing \n",
    "print(amountOwed)"
   ]
  },
  {
   "cell_type": "code",
   "execution_count": 18,
   "id": "c34b8ecf",
   "metadata": {},
   "outputs": [
    {
     "name": "stdout",
     "output_type": "stream",
     "text": [
      "6.5\n"
     ]
    }
   ],
   "source": [
    "# This insanely high interest rate represented as an annual percentage rate\n",
    "APR = WeeklyInterestRate * weeksInYear\n",
    "print(APR) # 6.5 means 650 % "
   ]
  },
  {
   "cell_type": "code",
   "execution_count": 21,
   "id": "c2d91233",
   "metadata": {},
   "outputs": [
    {
     "name": "stdout",
     "output_type": "stream",
     "text": [
      "457.0157499710408\n"
     ]
    }
   ],
   "source": [
    "# to find the effective annual percentage rate \n",
    "EffAPR = (1+WeeklyInterestRate) ** weeksInYear # this assumes that it compunds weekly \n",
    "print(EffAPR) # an output of 100 means that it increased 10,000 percent "
   ]
  }
 ],
 "metadata": {
  "kernelspec": {
   "display_name": "Python 3 (ipykernel)",
   "language": "python",
   "name": "python3"
  },
  "language_info": {
   "codemirror_mode": {
    "name": "ipython",
    "version": 3
   },
   "file_extension": ".py",
   "mimetype": "text/x-python",
   "name": "python",
   "nbconvert_exporter": "python",
   "pygments_lexer": "ipython3",
   "version": "3.10.6"
  }
 },
 "nbformat": 4,
 "nbformat_minor": 5
}
