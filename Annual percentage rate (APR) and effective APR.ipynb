{
 "cells": [
  {
   "cell_type": "code",
   "execution_count": 1,
   "id": "057246cf",
   "metadata": {},
   "outputs": [
    {
     "name": "stdout",
     "output_type": "stream",
     "text": [
      "0.0006273972602739726\n"
     ]
    }
   ],
   "source": [
    "annualPercentageRate = .229 # .22 means 22% annual percentage rate \n",
    "daysInYear = 365 \n",
    "years = 1 \n",
    "dailyPeriodicRate = annualPercentageRate / daysInYear\n",
    "print(dailyPeriodicRate)\n",
    "# https://www.nwcg.gov/course/ffm/conversions/21-unit-conversion-and-conversion-factors"
   ]
  },
  {
   "cell_type": "code",
   "execution_count": 2,
   "id": "9fd8519f",
   "metadata": {},
   "outputs": [
    {
     "name": "stdout",
     "output_type": "stream",
     "text": [
      "1.229\n"
     ]
    }
   ],
   "source": [
    "# annual percentage rates are misleading and underestimate the real annual interest rate, known as effectiveInterestRate\n",
    "print(1+annualPercentageRate) # adding a 1 signifies future value, the investment/debt is increasing in value  "
   ]
  },
  {
   "cell_type": "code",
   "execution_count": 3,
   "id": "0f1a8972",
   "metadata": {},
   "outputs": [
    {
     "name": "stdout",
     "output_type": "stream",
     "text": [
      "1.2572517563499377\n"
     ]
    }
   ],
   "source": [
    "# this is the real annual interest rate (mathmatically correct interest rate )\n",
    "effectiveInterestRate = (1 + dailyPeriodicRate) ** daysInYear \n",
    "print(effectiveInterestRate)"
   ]
  },
  {
   "cell_type": "code",
   "execution_count": 4,
   "id": "5c16ea9d",
   "metadata": {},
   "outputs": [
    {
     "name": "stdout",
     "output_type": "stream",
     "text": [
      "1257.2517563499378\n"
     ]
    }
   ],
   "source": [
    "principal = 1000\n",
    "futureValue = principal * (effectiveInterestRate ** years)   \n",
    "print(futureValue)"
   ]
  },
  {
   "cell_type": "code",
   "execution_count": 5,
   "id": "adcae614",
   "metadata": {},
   "outputs": [
    {
     "name": "stdout",
     "output_type": "stream",
     "text": [
      "257.25175634993775\n"
     ]
    }
   ],
   "source": [
    "interestAccrued = futureValue - principal \n",
    "print(interestAccrued)"
   ]
  }
 ],
 "metadata": {
  "kernelspec": {
   "display_name": "Python 3 (ipykernel)",
   "language": "python",
   "name": "python3"
  },
  "language_info": {
   "codemirror_mode": {
    "name": "ipython",
    "version": 3
   },
   "file_extension": ".py",
   "mimetype": "text/x-python",
   "name": "python",
   "nbconvert_exporter": "python",
   "pygments_lexer": "ipython3",
   "version": "3.10.6"
  }
 },
 "nbformat": 4,
 "nbformat_minor": 5
}
