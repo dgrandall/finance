{
 "cells": [
  {
   "cell_type": "code",
   "execution_count": 18,
   "id": "8341ff11",
   "metadata": {},
   "outputs": [],
   "source": [
    "# COMPOUNDS ANNUALLY "
   ]
  },
  {
   "cell_type": "code",
   "execution_count": 19,
   "id": "061b960a",
   "metadata": {},
   "outputs": [],
   "source": [
    "principal = 100 # the amount of money invested \n",
    "rate_of_return = 6 # the percentage rate that our money will increase by when invested \n",
    "years = 3 # if it compounds annually can leave this as is. If compounds monthly multiply this number by 12 (months in a year)"
   ]
  },
  {
   "cell_type": "code",
   "execution_count": 20,
   "id": "8f4dd9fb",
   "metadata": {},
   "outputs": [],
   "source": [
    "future_value = principal*((1+rate_of_return/100)**years)"
   ]
  },
  {
   "cell_type": "code",
   "execution_count": 21,
   "id": "acf3bdbc",
   "metadata": {},
   "outputs": [
    {
     "name": "stdout",
     "output_type": "stream",
     "text": [
      "119.1016\n"
     ]
    }
   ],
   "source": [
    "print(future_value)"
   ]
  },
  {
   "cell_type": "code",
   "execution_count": 22,
   "id": "5b5db73c",
   "metadata": {},
   "outputs": [],
   "source": [
    "# HOW LONG DOES IT TAKE TO DOUBLE YOUR MONEY? \n",
    "from math import * "
   ]
  },
  {
   "cell_type": "code",
   "execution_count": 23,
   "id": "80e6e736",
   "metadata": {},
   "outputs": [
    {
     "data": {
      "text/plain": [
       "3.0"
      ]
     },
     "execution_count": 23,
     "metadata": {},
     "output_type": "execute_result"
    }
   ],
   "source": [
    "log(8,2) # Test of what exponent is needed to transform 2 to 8?  "
   ]
  },
  {
   "cell_type": "code",
   "execution_count": 24,
   "id": "30ebf060",
   "metadata": {},
   "outputs": [
    {
     "data": {
      "text/plain": [
       "11.895661045941875"
      ]
     },
     "execution_count": 24,
     "metadata": {},
     "output_type": "execute_result"
    }
   ],
   "source": [
    "log(2,(1+rate_of_return/100)) # how many years it takes to double money "
   ]
  },
  {
   "cell_type": "code",
   "execution_count": 25,
   "id": "ae2516bd",
   "metadata": {},
   "outputs": [
    {
     "data": {
      "text/plain": [
       "12.0"
      ]
     },
     "execution_count": 25,
     "metadata": {},
     "output_type": "execute_result"
    }
   ],
   "source": [
    "# APPROXIMATION USING THE RULE OF 72 \n",
    "# this will output the number of years that it will take to double your money. For number of months multiply this by 12\n",
    "72/rate_of_return"
   ]
  },
  {
   "cell_type": "code",
   "execution_count": 43,
   "id": "d1060265",
   "metadata": {},
   "outputs": [
    {
     "name": "stdout",
     "output_type": "stream",
     "text": [
      "1 69.66071689357483\n",
      "2 35.0027887811465\n",
      "3 23.449772250437736\n",
      "4 17.672987685129698\n",
      "5 14.206699082890461\n",
      "6 11.895661045941875\n",
      "7 10.244768351058712\n",
      "8 9.006468342000588\n",
      "9 8.043231726932046\n",
      "10 7.272540897341713\n",
      "11 6.641884618417903\n",
      "12 6.1162553741996994\n",
      "13 5.671417168779922\n",
      "14 5.290058555535471\n",
      "15 4.959484454640391\n",
      "16 4.6701735389888235\n",
      "17 4.414844778007474\n",
      "18 4.187835133512322\n",
      "19 3.984673772646847\n",
      "20 3.8017840169239308\n",
      "21 3.6362704486708597\n",
      "22 3.485764079340685\n",
      "23 3.3483079086876564\n",
      "24 3.222271094138538\n",
      "25 3.10628371950539\n"
     ]
    }
   ],
   "source": [
    "#ACTUAL DOUBLING TIME \n",
    "for x in range(1,26):\n",
    "    print(x,log(2,(1+x/100)))"
   ]
  },
  {
   "cell_type": "code",
   "execution_count": 40,
   "id": "c8c37843",
   "metadata": {},
   "outputs": [
    {
     "name": "stdout",
     "output_type": "stream",
     "text": [
      "1 72.0\n",
      "2 36.0\n",
      "3 24.0\n",
      "4 18.0\n",
      "5 14.4\n",
      "6 12.0\n",
      "7 10.285714285714286\n",
      "8 9.0\n",
      "9 8.0\n",
      "10 7.2\n",
      "11 6.545454545454546\n",
      "12 6.0\n",
      "13 5.538461538461538\n",
      "14 5.142857142857143\n",
      "15 4.8\n",
      "16 4.5\n",
      "17 4.235294117647059\n",
      "18 4.0\n",
      "19 3.789473684210526\n",
      "20 3.6\n",
      "21 3.4285714285714284\n",
      "22 3.272727272727273\n",
      "23 3.130434782608696\n",
      "24 3.0\n",
      "25 2.88\n"
     ]
    }
   ],
   "source": [
    "#RULE OF 72 ESTIMATION \n",
    "for x in range(1,26):\n",
    "    print(x,72/x)"
   ]
  },
  {
   "cell_type": "code",
   "execution_count": 42,
   "id": "bd812400",
   "metadata": {},
   "outputs": [
    {
     "name": "stdout",
     "output_type": "stream",
     "text": [
      "69.66071689357483\n",
      "70.005577562293\n",
      "70.34931675131321\n",
      "70.69195074051879\n",
      "71.0334954144523\n",
      "71.37396627565124\n",
      "71.71337845741098\n",
      "72.0517467360047\n",
      "72.38908554238841\n",
      "72.72540897341713\n",
      "73.06073080259694\n",
      "73.3950644903964\n",
      "73.728423194139\n",
      "74.06081977749659\n",
      "74.39226681960587\n",
      "74.72277662382118\n",
      "75.05236122612706\n",
      "75.3810324032218\n",
      "75.7088016802901\n",
      "76.03568033847861\n",
      "76.36167942208806\n",
      "76.68680974549507\n",
      "77.01108189981609\n",
      "77.33450625932491\n",
      "77.65709298763474\n"
     ]
    }
   ],
   "source": [
    "# APPROXIMATE NUMERATOR REPLACEMENT IN RULE OF 72 \n",
    "for x in range(1,26):\n",
    "    print(x*(log(2,(1+x/100))))"
   ]
  },
  {
   "cell_type": "code",
   "execution_count": null,
   "id": "c61a3d43",
   "metadata": {},
   "outputs": [],
   "source": []
  }
 ],
 "metadata": {
  "kernelspec": {
   "display_name": "Python 3 (ipykernel)",
   "language": "python",
   "name": "python3"
  },
  "language_info": {
   "codemirror_mode": {
    "name": "ipython",
    "version": 3
   },
   "file_extension": ".py",
   "mimetype": "text/x-python",
   "name": "python",
   "nbconvert_exporter": "python",
   "pygments_lexer": "ipython3",
   "version": "3.10.6"
  }
 },
 "nbformat": 4,
 "nbformat_minor": 5
}
