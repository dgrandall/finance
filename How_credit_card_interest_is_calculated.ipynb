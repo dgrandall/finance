{
 "cells": [
  {
   "cell_type": "code",
   "execution_count": 8,
   "id": "50e82524",
   "metadata": {},
   "outputs": [
    {
     "name": "stdout",
     "output_type": "stream",
     "text": [
      "125.80645161290323\n"
     ]
    }
   ],
   "source": [
    "# we use apr and not the effective apr because effective APR takes monthly compounding into account but this is just for one month. If we plugged effective APR in here we would double compound the interest\n",
    "# to find the average daily balance for one month \n",
    "# this is a weighted average, using the number of days * carried balance and dividing it by the number of days in the month to find the average\n",
    "APR = .2299\n",
    "daysInMonth = 31 # this will change depending on the month \n",
    "daysInYear = 365 # this is constant \n",
    "averageDailyBalance = ((5 *100)+(14 * 200)+(12 * 50))/daysInMonth # these values will change depending on days that a specified balance was carried \n",
    "print(averageDailyBalance)"
   ]
  },
  {
   "cell_type": "code",
   "execution_count": 10,
   "id": "fe849091",
   "metadata": {},
   "outputs": [
    {
     "name": "stdout",
     "output_type": "stream",
     "text": [
      "2.4564657534246574\n"
     ]
    }
   ],
   "source": [
    "# interest that accrues after the grace period \n",
    "InterestAccrued = averageDailyBalance * (daysInMonth/daysInYear) * APR\n",
    "print(InterestAccrued)"
   ]
  }
 ],
 "metadata": {
  "kernelspec": {
   "display_name": "Python 3 (ipykernel)",
   "language": "python",
   "name": "python3"
  },
  "language_info": {
   "codemirror_mode": {
    "name": "ipython",
    "version": 3
   },
   "file_extension": ".py",
   "mimetype": "text/x-python",
   "name": "python",
   "nbconvert_exporter": "python",
   "pygments_lexer": "ipython3",
   "version": "3.10.6"
  }
 },
 "nbformat": 4,
 "nbformat_minor": 5
}
