{
 "cells": [
  {
   "cell_type": "code",
   "execution_count": 1,
   "id": "d3c56114",
   "metadata": {},
   "outputs": [],
   "source": [
    "# get the necessary libraries \n",
    "import pandas as pd \n",
    "import matplotlib.pylab as plt \n",
    "from collections import Counter"
   ]
  },
  {
   "cell_type": "code",
   "execution_count": 2,
   "id": "0dc8067c",
   "metadata": {},
   "outputs": [],
   "source": [
    "loans2007= pd.read_csv('/home/d/Desktop/lending_club_loans.csv', skiprows=1 , low_memory=False)"
   ]
  },
  {
   "cell_type": "code",
   "execution_count": 3,
   "id": "d2223383",
   "metadata": {},
   "outputs": [
    {
     "data": {
      "text/plain": [
       "(42538, 115)"
      ]
     },
     "execution_count": 3,
     "metadata": {},
     "output_type": "execute_result"
    }
   ],
   "source": [
    "loans2007.shape"
   ]
  },
  {
   "cell_type": "code",
   "execution_count": 4,
   "id": "83c2550e",
   "metadata": {},
   "outputs": [
    {
     "data": {
      "text/plain": [
       "0     5000.0\n",
       "1     2500.0\n",
       "2     2400.0\n",
       "3    10000.0\n",
       "4     3000.0\n",
       "Name: loan_amnt, dtype: float64"
      ]
     },
     "execution_count": 4,
     "metadata": {},
     "output_type": "execute_result"
    }
   ],
   "source": [
    "loans2007['loan_amnt'].head()"
   ]
  },
  {
   "cell_type": "code",
   "execution_count": 5,
   "id": "5d95736e",
   "metadata": {},
   "outputs": [],
   "source": [
    "first_digits_list = [] # create an empty list, which will be used to store the first digits of every loan amount \n",
    "for this_amt in list(loans2007['loan_amnt']): # iterate through each value in a list of loan amounts from the dataset\n",
    "    first_digits_list.append(str(this_amt)[0])# add the first digit of each amount as a string to the aformentioned list"
   ]
  },
  {
   "cell_type": "code",
   "execution_count": 6,
   "id": "4f7babfc",
   "metadata": {},
   "outputs": [
    {
     "data": {
      "text/plain": [
       "42538"
      ]
     },
     "execution_count": 6,
     "metadata": {},
     "output_type": "execute_result"
    }
   ],
   "source": [
    "len(first_digits_list) # how many values are in this list "
   ]
  },
  {
   "cell_type": "code",
   "execution_count": 7,
   "id": "e251beed",
   "metadata": {},
   "outputs": [
    {
     "data": {
      "text/plain": [
       "['5', '2', '2', '1', '3']"
      ]
     },
     "execution_count": 7,
     "metadata": {},
     "output_type": "execute_result"
    }
   ],
   "source": [
    "first_digits_list[0:5] # what are the first 5 values in this list "
   ]
  },
  {
   "cell_type": "code",
   "execution_count": 8,
   "id": "0a787f2e",
   "metadata": {},
   "outputs": [
    {
     "data": {
      "text/plain": [
       "10"
      ]
     },
     "execution_count": 8,
     "metadata": {},
     "output_type": "execute_result"
    }
   ],
   "source": [
    "len(set(first_digits_list)) # uses the set function to show how many unique values there are "
   ]
  },
  {
   "cell_type": "code",
   "execution_count": 9,
   "id": "57a0a0a5",
   "metadata": {},
   "outputs": [
    {
     "data": {
      "text/plain": [
       "{'1', '2', '3', '4', '5', '6', '7', '8', '9', 'n'}"
      ]
     },
     "execution_count": 9,
     "metadata": {},
     "output_type": "execute_result"
    }
   ],
   "source": [
    "set(first_digits_list) # shows all of the unique values of leading digits "
   ]
  },
  {
   "cell_type": "code",
   "execution_count": 10,
   "id": "b63d5f22",
   "metadata": {},
   "outputs": [],
   "source": [
    "# delete any occurances of 'n' \n",
    "while 'n' in first_digits_list: \n",
    "    first_digits_list.remove('n')"
   ]
  },
  {
   "cell_type": "code",
   "execution_count": 11,
   "id": "3ee6694b",
   "metadata": {},
   "outputs": [
    {
     "data": {
      "text/plain": [
       "42535"
      ]
     },
     "execution_count": 11,
     "metadata": {},
     "output_type": "execute_result"
    }
   ],
   "source": [
    "len(first_digits_list) # shows how many values are left in the list "
   ]
  },
  {
   "cell_type": "code",
   "execution_count": 12,
   "id": "a341b5e1",
   "metadata": {},
   "outputs": [],
   "source": [
    "# sort the list first before graphing  \n",
    "first_digits_list.sort()"
   ]
  },
  {
   "cell_type": "code",
   "execution_count": 13,
   "id": "968d9c8d",
   "metadata": {},
   "outputs": [
    {
     "data": {
      "text/plain": [
       "Text(0, 0.5, 'Count')"
      ]
     },
     "execution_count": 13,
     "metadata": {},
     "output_type": "execute_result"
    },
    {
     "data": {
      "image/png": "[encoded data removed]",
      "text/plain": [
       "<Figure size 432x288 with 1 Axes>"
      ]
     },
     "metadata": {
      "needs_background": "light"
     },
     "output_type": "display_data"
    }
   ],
   "source": [
    "plt.hist(first_digits_list, bins=len(set(first_digits_list)))\n",
    "plt.xlabel('Leading_Digit')\n",
    "plt.ylabel('Count')"
   ]
  },
  {
   "cell_type": "code",
   "execution_count": 25,
   "id": "fd60cb44",
   "metadata": {},
   "outputs": [
    {
     "name": "stdout",
     "output_type": "stream",
     "text": [
      "Counter({'1': 15853, '2': 7184, '3': 3638, '5': 3316, '6': 3119, '4': 2682, '8': 2558, '7': 2540, '9': 1645})\n"
     ]
    }
   ],
   "source": [
    "print(Counter(first_digits_list))"
   ]
  },
  {
   "cell_type": "code",
   "execution_count": 31,
   "id": "b0447485",
   "metadata": {},
   "outputs": [
    {
     "name": "stdout",
     "output_type": "stream",
     "text": [
      "1 --- 0.37270483131538734\n",
      "2 --- 0.16889620312683673\n",
      "3 --- 0.08552956388856237\n",
      "4 --- 0.06305395556600446\n",
      "5 --- 0.07795932761255436\n",
      "6 --- 0.07332784765487246\n",
      "7 --- 0.059715528388386035\n",
      "8 --- 0.06013870929822499\n",
      "9 --- 0.03867403314917127\n"
     ]
    }
   ],
   "source": [
    "for key in Counter(first_digits_list): \n",
    "    print(key,\"---\", Counter(first_digits_list)[key]/(len(first_digits_list)))"
   ]
  },
  {
   "cell_type": "code",
   "execution_count": null,
   "id": "f0a04ae6",
   "metadata": {},
   "outputs": [],
   "source": []
  }
 ],
 "metadata": {
  "kernelspec": {
   "display_name": "Python 3 (ipykernel)",
   "language": "python",
   "name": "python3"
  },
  "language_info": {
   "codemirror_mode": {
    "name": "ipython",
    "version": 3
   },
   "file_extension": ".py",
   "mimetype": "text/x-python",
   "name": "python",
   "nbconvert_exporter": "python",
   "pygments_lexer": "ipython3",
   "version": "3.10.6"
  }
 },
 "nbformat": 4,
 "nbformat_minor": 5
}
